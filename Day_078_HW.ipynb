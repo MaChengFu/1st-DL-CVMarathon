{
 "cells": [
  {
   "cell_type": "markdown",
   "metadata": {},
   "source": [
    "## Work\n",
    "1. 請嘗試將 preproc_x 替換成以每筆資料的 min/max 進行標準化至 -1 ~ 1 間，再進行訓練\n",
    "2. 請嘗試將 mlp 疊更深 (e.g 5~10 層)，進行訓練後觀察 learning curve 的走勢\n",
    "3. (optional) 請改用 GPU 進行訓練 (如果你有 GPU 的話)，比較使用 CPU 與 GPU 的訓練速度"
   ]
  },
  {
   "cell_type": "code",
   "execution_count": 1,
   "metadata": {},
   "outputs": [
    {
     "name": "stdout",
     "output_type": "stream",
     "text": [
      "Wed Oct 21 16:51:09 2020       \n",
      "+-----------------------------------------------------------------------------+\n",
      "| NVIDIA-SMI 456.43       Driver Version: 456.43       CUDA Version: 11.1     |\n",
      "|-------------------------------+----------------------+----------------------+\n",
      "| GPU  Name            TCC/WDDM | Bus-Id        Disp.A | Volatile Uncorr. ECC |\n",
      "| Fan  Temp  Perf  Pwr:Usage/Cap|         Memory-Usage | GPU-Util  Compute M. |\n",
      "|===============================+======================+======================|\n",
      "|   0  GeForce MX250      WDDM  | 00000000:2D:00.0 Off |                  N/A |\n",
      "| N/A   54C    P8    N/A /  N/A |     64MiB /  2048MiB |      1%      Default |\n",
      "+-------------------------------+----------------------+----------------------+\n",
      "                                                                               \n",
      "+-----------------------------------------------------------------------------+\n",
      "| Processes:                                                                  |\n",
      "|  GPU   GI   CI        PID   Type   Process name                  GPU Memory |\n",
      "|        ID   ID                                                   Usage      |\n",
      "|=============================================================================|\n",
      "|  No running processes found                                                 |\n",
      "+-----------------------------------------------------------------------------+\n"
     ]
    }
   ],
   "source": [
    "## \n",
    "\"\"\"\n",
    "Your code here (optional)\n",
    "確認硬體資源\n",
    "\"\"\"\n",
    "!nvidia-smi"
   ]
  },
  {
   "cell_type": "code",
   "execution_count": 3,
   "metadata": {},
   "outputs": [],
   "source": [
    "import os\n",
    "import keras\n",
    "\n",
    "# 請嘗試設定 GPU：os.environ\n",
    "os.environ[\"CUDA_VISIBLE_DEVICES\"] = \"0\""
   ]
  },
  {
   "cell_type": "code",
   "execution_count": 4,
   "metadata": {},
   "outputs": [],
   "source": [
    "train, test = keras.datasets.cifar10.load_data()"
   ]
  },
  {
   "cell_type": "code",
   "execution_count": 7,
   "metadata": {},
   "outputs": [],
   "source": [
    "## 資料前處理\n",
    "\"\"\"\n",
    "Your code here\n",
    "\"\"\"\n",
    "def preproc_x(x, flatten=True):\n",
    "    x = 2*(((x - x.min()) / (x.max() - x.min()))-0.5)\n",
    "    if flatten:\n",
    "        x = x.reshape((len(x), -1))\n",
    "    return x\n",
    "\n",
    "def preproc_y(y, num_classes=10):\n",
    "    if y.shape[-1] == 1:\n",
    "        y = keras.utils.to_categorical(y, num_classes)\n",
    "    return y    "
   ]
  },
  {
   "cell_type": "code",
   "execution_count": 8,
   "metadata": {},
   "outputs": [],
   "source": [
    "x_train, y_train = train\n",
    "x_test, y_test = test\n",
    "\n",
    "# Preproc the inputs\n",
    "x_train = preproc_x(x_train)\n",
    "x_test = preproc_x(x_test)\n",
    "\n",
    "# Preprc the outputs\n",
    "y_train = preproc_y(y_train)\n",
    "y_test = preproc_y(y_test)"
   ]
  },
  {
   "cell_type": "code",
   "execution_count": 10,
   "metadata": {},
   "outputs": [
    {
     "name": "stdout",
     "output_type": "stream",
     "text": [
      "Model: \"functional_1\"\n",
      "_________________________________________________________________\n",
      "Layer (type)                 Output Shape              Param #   \n",
      "=================================================================\n",
      "input_1 (InputLayer)         [(None, 3072)]            0         \n",
      "_________________________________________________________________\n",
      "hidden_layer1 (Dense)        (None, 512)               1573376   \n",
      "_________________________________________________________________\n",
      "hidden_layer2 (Dense)        (None, 256)               131328    \n",
      "_________________________________________________________________\n",
      "hidden_layer3 (Dense)        (None, 128)               32896     \n",
      "_________________________________________________________________\n",
      "hidden_layer4 (Dense)        (None, 128)               16512     \n",
      "_________________________________________________________________\n",
      "hidden_layer5 (Dense)        (None, 128)               16512     \n",
      "_________________________________________________________________\n",
      "output (Dense)               (None, 10)                1290      \n",
      "=================================================================\n",
      "Total params: 1,771,914\n",
      "Trainable params: 1,771,914\n",
      "Non-trainable params: 0\n",
      "_________________________________________________________________\n"
     ]
    }
   ],
   "source": [
    "\"\"\"Code Here\n",
    "建立你的神經網路\n",
    "\"\"\"\n",
    "def build_mlp(input_shape, output_units=10, num_neurons=[512, 256, 128, 128, 128]):\n",
    "    input_layer = keras.layers.Input(input_shape)\n",
    "    \n",
    "    for i, n_units in enumerate(num_neurons):\n",
    "        if i == 0:\n",
    "            x = keras.layers.Dense(units=n_units, activation=\"relu\", name=\"hidden_layer\"+str(i+1))(input_layer)\n",
    "        else:\n",
    "            x = keras.layers.Dense(units=n_units, activation=\"relu\", name=\"hidden_layer\"+str(i+1))(x)\n",
    "    \n",
    "    out = keras.layers.Dense(units=output_units, activation=\"softmax\", name=\"output\")(x)\n",
    "    \n",
    "    model = keras.models.Model(inputs=[input_layer], outputs=[out])\n",
    "    return model\n",
    "\n",
    "model = build_mlp(input_shape=x_train.shape[1:])\n",
    "model.summary()"
   ]
  },
  {
   "cell_type": "code",
   "execution_count": 11,
   "metadata": {},
   "outputs": [],
   "source": [
    "## 超參數設定\n",
    "LEARNING_RATE = 0.001\n",
    "EPOCHS = 100\n",
    "BATCH_SIZE = 256"
   ]
  },
  {
   "cell_type": "code",
   "execution_count": 12,
   "metadata": {},
   "outputs": [],
   "source": [
    "optimizer = keras.optimizers.Adam(lr=LEARNING_RATE)\n",
    "model.compile(loss=\"categorical_crossentropy\", metrics=[\"accuracy\"], optimizer=optimizer)"
   ]
  },
  {
   "cell_type": "code",
   "execution_count": 13,
   "metadata": {},
   "outputs": [
    {
     "name": "stdout",
     "output_type": "stream",
     "text": [
      "Epoch 1/100\n",
      "196/196 [==============================] - 5s 26ms/step - loss: 1.6999 - accuracy: 0.3946 - val_loss: 1.5557 - val_accuracy: 0.4426\n",
      "Epoch 2/100\n",
      "196/196 [==============================] - 7s 35ms/step - loss: 1.4676 - accuracy: 0.4831 - val_loss: 1.4352 - val_accuracy: 0.4951\n",
      "Epoch 3/100\n",
      "196/196 [==============================] - 7s 34ms/step - loss: 1.3480 - accuracy: 0.5240 - val_loss: 1.4075 - val_accuracy: 0.5078\n",
      "Epoch 4/100\n",
      "196/196 [==============================] - 6s 31ms/step - loss: 1.2572 - accuracy: 0.5562 - val_loss: 1.3800 - val_accuracy: 0.5142\n",
      "Epoch 5/100\n",
      "196/196 [==============================] - 6s 33ms/step - loss: 1.1749 - accuracy: 0.5838 - val_loss: 1.3611 - val_accuracy: 0.5252\n",
      "Epoch 6/100\n",
      "196/196 [==============================] - 6s 32ms/step - loss: 1.0983 - accuracy: 0.6133 - val_loss: 1.3551 - val_accuracy: 0.5360\n",
      "Epoch 7/100\n",
      "196/196 [==============================] - 6s 32ms/step - loss: 1.0187 - accuracy: 0.6386 - val_loss: 1.3671 - val_accuracy: 0.5317\n",
      "Epoch 8/100\n",
      "196/196 [==============================] - 6s 32ms/step - loss: 0.9593 - accuracy: 0.6607 - val_loss: 1.3878 - val_accuracy: 0.5399\n",
      "Epoch 9/100\n",
      "196/196 [==============================] - 6s 31ms/step - loss: 0.8885 - accuracy: 0.6851 - val_loss: 1.4284 - val_accuracy: 0.5350\n",
      "Epoch 10/100\n",
      "196/196 [==============================] - 6s 33ms/step - loss: 0.8238 - accuracy: 0.7066 - val_loss: 1.4477 - val_accuracy: 0.5384\n",
      "Epoch 11/100\n",
      "196/196 [==============================] - 6s 32ms/step - loss: 0.7624 - accuracy: 0.7276 - val_loss: 1.4698 - val_accuracy: 0.5442\n",
      "Epoch 12/100\n",
      "196/196 [==============================] - 6s 32ms/step - loss: 0.6901 - accuracy: 0.7548 - val_loss: 1.5620 - val_accuracy: 0.5331\n",
      "Epoch 13/100\n",
      "196/196 [==============================] - 6s 32ms/step - loss: 0.6430 - accuracy: 0.7694 - val_loss: 1.6366 - val_accuracy: 0.5329\n",
      "Epoch 14/100\n",
      "196/196 [==============================] - 6s 31ms/step - loss: 0.5866 - accuracy: 0.7918 - val_loss: 1.6714 - val_accuracy: 0.5314\n",
      "Epoch 15/100\n",
      "196/196 [==============================] - 6s 32ms/step - loss: 0.5407 - accuracy: 0.8082 - val_loss: 1.7829 - val_accuracy: 0.5391\n",
      "Epoch 16/100\n",
      "196/196 [==============================] - 6s 32ms/step - loss: 0.4937 - accuracy: 0.8231 - val_loss: 1.8929 - val_accuracy: 0.5339\n",
      "Epoch 17/100\n",
      "196/196 [==============================] - 6s 32ms/step - loss: 0.4641 - accuracy: 0.8337 - val_loss: 1.9802 - val_accuracy: 0.5258\n",
      "Epoch 18/100\n",
      "196/196 [==============================] - 6s 32ms/step - loss: 0.4173 - accuracy: 0.8533 - val_loss: 2.0774 - val_accuracy: 0.5260\n",
      "Epoch 19/100\n",
      "196/196 [==============================] - 6s 31ms/step - loss: 0.3902 - accuracy: 0.8622 - val_loss: 2.1320 - val_accuracy: 0.5237\n",
      "Epoch 20/100\n",
      "196/196 [==============================] - 6s 33ms/step - loss: 0.3595 - accuracy: 0.8729 - val_loss: 2.2450 - val_accuracy: 0.5317\n",
      "Epoch 21/100\n",
      "196/196 [==============================] - 6s 32ms/step - loss: 0.3341 - accuracy: 0.8822 - val_loss: 2.2913 - val_accuracy: 0.5279\n",
      "Epoch 22/100\n",
      "196/196 [==============================] - 6s 31ms/step - loss: 0.3148 - accuracy: 0.8882 - val_loss: 2.3949 - val_accuracy: 0.5302\n",
      "Epoch 23/100\n",
      "196/196 [==============================] - 6s 33ms/step - loss: 0.3084 - accuracy: 0.8923 - val_loss: 2.4935 - val_accuracy: 0.5277\n",
      "Epoch 24/100\n",
      "196/196 [==============================] - 6s 31ms/step - loss: 0.2876 - accuracy: 0.8986 - val_loss: 2.5486 - val_accuracy: 0.5310\n",
      "Epoch 25/100\n",
      "196/196 [==============================] - 6s 32ms/step - loss: 0.2508 - accuracy: 0.9120 - val_loss: 2.7797 - val_accuracy: 0.5298\n",
      "Epoch 26/100\n",
      "196/196 [==============================] - 6s 32ms/step - loss: 0.2415 - accuracy: 0.9158 - val_loss: 2.7250 - val_accuracy: 0.5296\n",
      "Epoch 27/100\n",
      "196/196 [==============================] - 6s 31ms/step - loss: 0.2326 - accuracy: 0.9192 - val_loss: 2.7843 - val_accuracy: 0.5240\n",
      "Epoch 28/100\n",
      "196/196 [==============================] - 6s 33ms/step - loss: 0.2365 - accuracy: 0.9179 - val_loss: 2.8979 - val_accuracy: 0.5310\n",
      "Epoch 29/100\n",
      "196/196 [==============================] - 6s 32ms/step - loss: 0.2157 - accuracy: 0.9253 - val_loss: 2.9955 - val_accuracy: 0.5247\n",
      "Epoch 30/100\n",
      "196/196 [==============================] - 6s 32ms/step - loss: 0.2073 - accuracy: 0.9288 - val_loss: 3.0030 - val_accuracy: 0.5313\n",
      "Epoch 31/100\n",
      "196/196 [==============================] - 6s 32ms/step - loss: 0.2188 - accuracy: 0.9236 - val_loss: 2.9589 - val_accuracy: 0.5296\n",
      "Epoch 32/100\n",
      "196/196 [==============================] - 6s 31ms/step - loss: 0.1865 - accuracy: 0.9359 - val_loss: 3.0456 - val_accuracy: 0.5236\n",
      "Epoch 33/100\n",
      "196/196 [==============================] - 6s 32ms/step - loss: 0.1929 - accuracy: 0.9341 - val_loss: 3.1332 - val_accuracy: 0.5328\n",
      "Epoch 34/100\n",
      "196/196 [==============================] - 6s 33ms/step - loss: 0.1722 - accuracy: 0.9412 - val_loss: 3.3534 - val_accuracy: 0.5293\n",
      "Epoch 35/100\n",
      "196/196 [==============================] - 6s 32ms/step - loss: 0.1734 - accuracy: 0.9411 - val_loss: 3.3014 - val_accuracy: 0.5245\n",
      "Epoch 36/100\n",
      "196/196 [==============================] - 6s 32ms/step - loss: 0.1779 - accuracy: 0.9393 - val_loss: 3.1750 - val_accuracy: 0.5274\n",
      "Epoch 37/100\n",
      "196/196 [==============================] - 6s 31ms/step - loss: 0.1663 - accuracy: 0.9434 - val_loss: 3.2839 - val_accuracy: 0.5258\n",
      "Epoch 38/100\n",
      "196/196 [==============================] - 6s 32ms/step - loss: 0.1600 - accuracy: 0.9454 - val_loss: 3.3985 - val_accuracy: 0.5231\n",
      "Epoch 39/100\n",
      "196/196 [==============================] - 6s 32ms/step - loss: 0.1561 - accuracy: 0.9463 - val_loss: 3.3076 - val_accuracy: 0.5269\n",
      "Epoch 40/100\n",
      "196/196 [==============================] - 6s 32ms/step - loss: 0.1413 - accuracy: 0.9515 - val_loss: 3.4612 - val_accuracy: 0.5203\n",
      "Epoch 41/100\n",
      "196/196 [==============================] - 7s 35ms/step - loss: 0.1635 - accuracy: 0.9442 - val_loss: 3.5409 - val_accuracy: 0.5172\n",
      "Epoch 42/100\n",
      "196/196 [==============================] - 6s 31ms/step - loss: 0.1447 - accuracy: 0.9509 - val_loss: 3.4820 - val_accuracy: 0.52830.136 - ETA: 0s - loss: 0.1441 - accura\n",
      "Epoch 43/100\n",
      "196/196 [==============================] - 6s 32ms/step - loss: 0.1408 - accuracy: 0.9521 - val_loss: 3.4629 - val_accuracy: 0.5234\n",
      "Epoch 44/100\n",
      "196/196 [==============================] - 6s 32ms/step - loss: 0.1454 - accuracy: 0.9512 - val_loss: 3.5468 - val_accuracy: 0.5242\n",
      "Epoch 45/100\n",
      "196/196 [==============================] - 6s 31ms/step - loss: 0.1296 - accuracy: 0.9565 - val_loss: 3.6592 - val_accuracy: 0.5188\n",
      "Epoch 46/100\n",
      "196/196 [==============================] - 6s 33ms/step - loss: 0.1346 - accuracy: 0.9543 - val_loss: 3.7920 - val_accuracy: 0.5290\n",
      "Epoch 47/100\n",
      "196/196 [==============================] - 6s 31ms/step - loss: 0.1401 - accuracy: 0.9524 - val_loss: 3.7189 - val_accuracy: 0.5216\n",
      "Epoch 48/100\n",
      "196/196 [==============================] - 6s 32ms/step - loss: 0.1239 - accuracy: 0.9583 - val_loss: 3.6584 - val_accuracy: 0.5291\n",
      "Epoch 49/100\n",
      "196/196 [==============================] - 6s 32ms/step - loss: 0.1069 - accuracy: 0.9649 - val_loss: 3.8248 - val_accuracy: 0.5338s - l - ETA: 1s - loss: 0 - ETA: \n",
      "Epoch 50/100\n",
      "196/196 [==============================] - 6s 31ms/step - loss: 0.1397 - accuracy: 0.9539 - val_loss: 3.6363 - val_accuracy: 0.5288\n",
      "Epoch 51/100\n",
      "196/196 [==============================] - 6s 33ms/step - loss: 0.1254 - accuracy: 0.9591 - val_loss: 3.8491 - val_accuracy: 0.5264\n",
      "Epoch 52/100\n",
      "196/196 [==============================] - 6s 31ms/step - loss: 0.1260 - accuracy: 0.9585 - val_loss: 3.8494 - val_accuracy: 0.5246\n",
      "Epoch 53/100\n",
      "196/196 [==============================] - 6s 32ms/step - loss: 0.1131 - accuracy: 0.9633 - val_loss: 3.7351 - val_accuracy: 0.5239\n",
      "Epoch 54/100\n",
      "196/196 [==============================] - 6s 32ms/step - loss: 0.1161 - accuracy: 0.9614 - val_loss: 3.8979 - val_accuracy: 0.5203\n",
      "Epoch 55/100\n",
      "196/196 [==============================] - 6s 31ms/step - loss: 0.1228 - accuracy: 0.9597 - val_loss: 3.7613 - val_accuracy: 0.5238\n",
      "Epoch 56/100\n",
      "196/196 [==============================] - 6s 33ms/step - loss: 0.1105 - accuracy: 0.9638 - val_loss: 3.7353 - val_accuracy: 0.5241\n",
      "Epoch 57/100\n"
     ]
    },
    {
     "name": "stdout",
     "output_type": "stream",
     "text": [
      "196/196 [==============================] - 6s 32ms/step - loss: 0.1158 - accuracy: 0.9622 - val_loss: 3.7559 - val_accuracy: 0.5261\n",
      "Epoch 58/100\n",
      "196/196 [==============================] - 6s 32ms/step - loss: 0.0924 - accuracy: 0.9692 - val_loss: 4.0809 - val_accuracy: 0.5253\n",
      "Epoch 59/100\n",
      "196/196 [==============================] - 6s 32ms/step - loss: 0.1299 - accuracy: 0.9583 - val_loss: 3.7585 - val_accuracy: 0.5247\n",
      "Epoch 60/100\n",
      "196/196 [==============================] - 6s 31ms/step - loss: 0.1212 - accuracy: 0.9591 - val_loss: 4.0048 - val_accuracy: 0.5235\n",
      "Epoch 61/100\n",
      "196/196 [==============================] - 7s 34ms/step - loss: 0.0922 - accuracy: 0.9692 - val_loss: 4.2193 - val_accuracy: 0.5259\n",
      "Epoch 62/100\n",
      "196/196 [==============================] - 6s 33ms/step - loss: 0.0983 - accuracy: 0.9684 - val_loss: 3.9363 - val_accuracy: 0.5309\n",
      "Epoch 63/100\n",
      "196/196 [==============================] - 7s 33ms/step - loss: 0.1062 - accuracy: 0.9654 - val_loss: 3.9942 - val_accuracy: 0.5284\n",
      "Epoch 64/100\n",
      "196/196 [==============================] - 6s 33ms/step - loss: 0.1067 - accuracy: 0.9658 - val_loss: 3.9724 - val_accuracy: 0.5237\n",
      "Epoch 65/100\n",
      "196/196 [==============================] - 6s 32ms/step - loss: 0.1020 - accuracy: 0.9660 - val_loss: 4.1816 - val_accuracy: 0.5228\n",
      "Epoch 66/100\n",
      "196/196 [==============================] - 6s 33ms/step - loss: 0.0864 - accuracy: 0.9719 - val_loss: 4.0857 - val_accuracy: 0.5244\n",
      "Epoch 67/100\n",
      "196/196 [==============================] - 6s 32ms/step - loss: 0.1044 - accuracy: 0.9649 - val_loss: 3.9530 - val_accuracy: 0.5188\n",
      "Epoch 68/100\n",
      "196/196 [==============================] - 6s 32ms/step - loss: 0.1029 - accuracy: 0.9654 - val_loss: 4.1074 - val_accuracy: 0.5287\n",
      "Epoch 69/100\n",
      "196/196 [==============================] - 6s 32ms/step - loss: 0.0965 - accuracy: 0.9688 - val_loss: 4.1243 - val_accuracy: 0.5197\n",
      "Epoch 70/100\n",
      "196/196 [==============================] - 6s 31ms/step - loss: 0.0987 - accuracy: 0.9680 - val_loss: 4.0181 - val_accuracy: 0.5300\n",
      "Epoch 71/100\n",
      "196/196 [==============================] - 6s 32ms/step - loss: 0.0891 - accuracy: 0.9715 - val_loss: 4.0449 - val_accuracy: 0.5300\n",
      "Epoch 72/100\n",
      "196/196 [==============================] - 6s 32ms/step - loss: 0.0792 - accuracy: 0.9733 - val_loss: 4.2205 - val_accuracy: 0.5279\n",
      "Epoch 73/100\n",
      "196/196 [==============================] - 6s 32ms/step - loss: 0.0926 - accuracy: 0.9696 - val_loss: 4.1703 - val_accuracy: 0.5213\n",
      "Epoch 74/100\n",
      "196/196 [==============================] - 6s 33ms/step - loss: 0.1173 - accuracy: 0.9621 - val_loss: 3.9567 - val_accuracy: 0.5359\n",
      "Epoch 75/100\n",
      "196/196 [==============================] - 6s 31ms/step - loss: 0.0769 - accuracy: 0.9747 - val_loss: 4.2001 - val_accuracy: 0.5346\n",
      "Epoch 76/100\n",
      "196/196 [==============================] - 6s 32ms/step - loss: 0.0893 - accuracy: 0.9711 - val_loss: 4.1962 - val_accuracy: 0.5275\n",
      "Epoch 77/100\n",
      "196/196 [==============================] - 6s 32ms/step - loss: 0.0785 - accuracy: 0.9736 - val_loss: 4.3315 - val_accuracy: 0.5239\n",
      "Epoch 78/100\n",
      "196/196 [==============================] - 6s 31ms/step - loss: 0.0925 - accuracy: 0.9702 - val_loss: 4.2115 - val_accuracy: 0.5238\n",
      "Epoch 79/100\n",
      "196/196 [==============================] - 6s 33ms/step - loss: 0.0805 - accuracy: 0.9740 - val_loss: 4.2730 - val_accuracy: 0.5336\n",
      "Epoch 80/100\n",
      "196/196 [==============================] - 6s 32ms/step - loss: 0.0756 - accuracy: 0.9749 - val_loss: 4.3750 - val_accuracy: 0.5292\n",
      "Epoch 81/100\n",
      "196/196 [==============================] - 7s 35ms/step - loss: 0.0781 - accuracy: 0.9747 - val_loss: 4.3889 - val_accuracy: 0.5244\n",
      "Epoch 82/100\n",
      "196/196 [==============================] - 6s 33ms/step - loss: 0.0786 - accuracy: 0.9744 - val_loss: 4.4394 - val_accuracy: 0.5258\n",
      "Epoch 83/100\n",
      "196/196 [==============================] - 6s 31ms/step - loss: 0.0962 - accuracy: 0.9700 - val_loss: 4.1895 - val_accuracy: 0.5312\n",
      "Epoch 84/100\n",
      "196/196 [==============================] - 6s 33ms/step - loss: 0.0810 - accuracy: 0.9743 - val_loss: 4.0442 - val_accuracy: 0.5259\n",
      "Epoch 85/100\n",
      "196/196 [==============================] - 6s 31ms/step - loss: 0.0838 - accuracy: 0.9725 - val_loss: 4.2942 - val_accuracy: 0.5255\n",
      "Epoch 86/100\n",
      "196/196 [==============================] - 6s 32ms/step - loss: 0.0755 - accuracy: 0.9753 - val_loss: 4.2200 - val_accuracy: 0.5302\n",
      "Epoch 87/100\n",
      "196/196 [==============================] - 6s 32ms/step - loss: 0.0763 - accuracy: 0.9751 - val_loss: 4.3301 - val_accuracy: 0.5312\n",
      "Epoch 88/100\n",
      "196/196 [==============================] - 6s 31ms/step - loss: 0.0557 - accuracy: 0.9815 - val_loss: 4.5308 - val_accuracy: 0.5262\n",
      "Epoch 89/100\n",
      "196/196 [==============================] - 6s 33ms/step - loss: 0.0957 - accuracy: 0.9708 - val_loss: 4.5066 - val_accuracy: 0.5231\n",
      "Epoch 90/100\n",
      "196/196 [==============================] - 6s 32ms/step - loss: 0.0818 - accuracy: 0.9728 - val_loss: 4.3338 - val_accuracy: 0.5175\n",
      "Epoch 91/100\n",
      "196/196 [==============================] - 7s 36ms/step - loss: 0.0745 - accuracy: 0.9768 - val_loss: 4.1645 - val_accuracy: 0.5255\n",
      "Epoch 92/100\n",
      "196/196 [==============================] - 7s 34ms/step - loss: 0.0729 - accuracy: 0.9768 - val_loss: 4.3384 - val_accuracy: 0.5199\n",
      "Epoch 93/100\n",
      "196/196 [==============================] - 7s 34ms/step - loss: 0.0803 - accuracy: 0.9739 - val_loss: 4.4648 - val_accuracy: 0.5212\n",
      "Epoch 94/100\n",
      "196/196 [==============================] - 6s 33ms/step - loss: 0.0789 - accuracy: 0.9751 - val_loss: 4.4779 - val_accuracy: 0.5232\n",
      "Epoch 95/100\n",
      "196/196 [==============================] - 6s 31ms/step - loss: 0.0578 - accuracy: 0.9809 - val_loss: 4.5279 - val_accuracy: 0.5272\n",
      "Epoch 96/100\n",
      "196/196 [==============================] - 6s 32ms/step - loss: 0.0719 - accuracy: 0.9769 - val_loss: 4.5187 - val_accuracy: 0.5218\n",
      "Epoch 97/100\n",
      "196/196 [==============================] - 6s 32ms/step - loss: 0.0848 - accuracy: 0.9731 - val_loss: 4.2926 - val_accuracy: 0.5258\n",
      "Epoch 98/100\n",
      "196/196 [==============================] - 6s 31ms/step - loss: 0.0692 - accuracy: 0.9776 - val_loss: 4.4158 - val_accuracy: 0.5209\n",
      "Epoch 99/100\n",
      "196/196 [==============================] - 6s 33ms/step - loss: 0.0755 - accuracy: 0.9762 - val_loss: 4.3978 - val_accuracy: 0.5286\n",
      "Epoch 100/100\n",
      "196/196 [==============================] - 6s 32ms/step - loss: 0.0678 - accuracy: 0.9784 - val_loss: 4.4153 - val_accuracy: 0.5314\n"
     ]
    },
    {
     "data": {
      "text/plain": [
       "<tensorflow.python.keras.callbacks.History at 0x16a0c515370>"
      ]
     },
     "execution_count": 13,
     "metadata": {},
     "output_type": "execute_result"
    }
   ],
   "source": [
    "model.fit(x_train, y_train, \n",
    "          epochs=EPOCHS, \n",
    "          batch_size=BATCH_SIZE, \n",
    "          validation_data=(x_test, y_test), \n",
    "          shuffle=True)"
   ]
  },
  {
   "cell_type": "code",
   "execution_count": 16,
   "metadata": {},
   "outputs": [
    {
     "data": {
      "image/png": "[encoded data removed]",
      "text/plain": [
       "<Figure size 432x288 with 1 Axes>"
      ]
     },
     "metadata": {
      "needs_background": "light"
     },
     "output_type": "display_data"
    },
    {
     "data": {
      "image/png": "[encoded data removed]",
      "text/plain": [
       "<Figure size 432x288 with 1 Axes>"
      ]
     },
     "metadata": {
      "needs_background": "light"
     },
     "output_type": "display_data"
    }
   ],
   "source": [
    "import matplotlib.pyplot as plt\n",
    "\n",
    "\n",
    "train_loss = model.history.history[\"loss\"]\n",
    "valid_loss = model.history.history[\"val_loss\"]\n",
    "\n",
    "train_acc = model.history.history[\"accuracy\"]\n",
    "valid_acc = model.history.history[\"val_accuracy\"]\n",
    "\n",
    "plt.plot(range(len(train_loss)), train_loss, label=\"train loss\")\n",
    "plt.plot(range(len(valid_loss)), valid_loss, label=\"valid loss\")\n",
    "plt.legend()\n",
    "plt.title(\"Loss\")\n",
    "plt.show()\n",
    "\n",
    "plt.plot(range(len(train_acc)), train_acc, label=\"train accuracy\")\n",
    "plt.plot(range(len(valid_acc)), valid_acc, label=\"valid accuracy\")\n",
    "plt.legend()\n",
    "plt.title(\"Accuracy\")\n",
    "plt.show()"
   ]
  },
  {
   "cell_type": "code",
   "execution_count": null,
   "metadata": {},
   "outputs": [],
   "source": []
  }
 ],
 "metadata": {
  "kernelspec": {
   "display_name": "Python 3",
   "language": "python",
   "name": "python3"
  },
  "language_info": {
   "codemirror_mode": {
    "name": "ipython",
    "version": 3
   },
   "file_extension": ".py",
   "mimetype": "text/x-python",
   "name": "python",
   "nbconvert_exporter": "python",
   "pygments_lexer": "ipython3",
   "version": "3.8.3"
  }
 },
 "nbformat": 4,
 "nbformat_minor": 2
}
